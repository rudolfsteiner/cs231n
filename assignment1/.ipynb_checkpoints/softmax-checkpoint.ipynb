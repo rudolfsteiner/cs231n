{
 "cells": [
  {
   "cell_type": "markdown",
   "metadata": {},
   "source": [
    "# Softmax exercise\n",
    "\n",
    "*Complete and hand in this completed worksheet (including its outputs and any supporting code outside of the worksheet) with your assignment submission. For more details see the [assignments page](http://vision.stanford.edu/teaching/cs231n/assignments.html) on the course website.*\n",
    "\n",
    "This exercise is analogous to the SVM exercise. You will:\n",
    "\n",
    "- implement a fully-vectorized **loss function** for the Softmax classifier\n",
    "- implement the fully-vectorized expression for its **analytic gradient**\n",
    "- **check your implementation** with numerical gradient\n",
    "- use a validation set to **tune the learning rate and regularization** strength\n",
    "- **optimize** the loss function with **SGD**\n",
    "- **visualize** the final learned weights\n"
   ]
  },
  {
   "cell_type": "code",
   "execution_count": 5,
   "metadata": {
    "collapsed": false
   },
   "outputs": [],
   "source": [
    "import random\n",
    "import numpy as np\n",
    "from cs231n.data_utils import load_CIFAR10\n",
    "import matplotlib.pyplot as plt\n",
    "%matplotlib inline\n",
    "plt.rcParams['figure.figsize'] = (10.0, 8.0) # set default size of plots\n",
    "plt.rcParams['image.interpolation'] = 'nearest'\n",
    "plt.rcParams['image.cmap'] = 'gray'\n",
    "\n",
    "# for auto-reloading extenrnal modules\n",
    "# see http://stackoverflow.com/questions/1907993/autoreload-of-modules-in-ipython\n",
    "%load_ext autoreload\n",
    "%autoreload 2"
   ]
  },
  {
   "cell_type": "code",
   "execution_count": 6,
   "metadata": {
    "collapsed": false
   },
   "outputs": [
    {
     "name": "stdout",
     "output_type": "stream",
     "text": [
      "Train data shape:  (49000, 3073)\n",
      "Train labels shape:  (49000,)\n",
      "Validation data shape:  (1000, 3073)\n",
      "Validation labels shape:  (1000,)\n",
      "Test data shape:  (1000, 3073)\n",
      "Test labels shape:  (1000,)\n",
      "dev data shape:  (500, 3073)\n",
      "dev labels shape:  (500,)\n"
     ]
    }
   ],
   "source": [
    "def get_CIFAR10_data(num_training=49000, num_validation=1000, num_test=1000, num_dev=500):\n",
    "  \"\"\"\n",
    "  Load the CIFAR-10 dataset from disk and perform preprocessing to prepare\n",
    "  it for the linear classifier. These are the same steps as we used for the\n",
    "  SVM, but condensed to a single function.  \n",
    "  \"\"\"\n",
    "  # Load the raw CIFAR-10 data\n",
    "  cifar10_dir = 'cs231n/datasets/cifar-10-batches-py'\n",
    "  X_train, y_train, X_test, y_test = load_CIFAR10(cifar10_dir)\n",
    "  \n",
    "  # subsample the data\n",
    "  mask = range(num_training, num_training + num_validation)\n",
    "  X_val = X_train[mask]\n",
    "  y_val = y_train[mask]\n",
    "  mask = range(num_training)\n",
    "  X_train = X_train[mask]\n",
    "  y_train = y_train[mask]\n",
    "  mask = range(num_test)\n",
    "  X_test = X_test[mask]\n",
    "  y_test = y_test[mask]\n",
    "  mask = np.random.choice(num_training, num_dev, replace=False)\n",
    "  X_dev = X_train[mask]\n",
    "  y_dev = y_train[mask]\n",
    "  \n",
    "  # Preprocessing: reshape the image data into rows\n",
    "  X_train = np.reshape(X_train, (X_train.shape[0], -1))\n",
    "  X_val = np.reshape(X_val, (X_val.shape[0], -1))\n",
    "  X_test = np.reshape(X_test, (X_test.shape[0], -1))\n",
    "  X_dev = np.reshape(X_dev, (X_dev.shape[0], -1))\n",
    "  \n",
    "  # Normalize the data: subtract the mean image\n",
    "  mean_image = np.mean(X_train, axis = 0)\n",
    "  X_train -= mean_image\n",
    "  X_val -= mean_image\n",
    "  X_test -= mean_image\n",
    "  X_dev -= mean_image\n",
    "  \n",
    "  # add bias dimension and transform into columns\n",
    "  X_train = np.hstack([X_train, np.ones((X_train.shape[0], 1))])\n",
    "  X_val = np.hstack([X_val, np.ones((X_val.shape[0], 1))])\n",
    "  X_test = np.hstack([X_test, np.ones((X_test.shape[0], 1))])\n",
    "  X_dev = np.hstack([X_dev, np.ones((X_dev.shape[0], 1))])\n",
    "  \n",
    "  return X_train, y_train, X_val, y_val, X_test, y_test, X_dev, y_dev\n",
    "\n",
    "\n",
    "# Invoke the above function to get our data.\n",
    "X_train, y_train, X_val, y_val, X_test, y_test, X_dev, y_dev = get_CIFAR10_data()\n",
    "print('Train data shape: ', X_train.shape)\n",
    "print( 'Train labels shape: ', y_train.shape)\n",
    "print ('Validation data shape: ', X_val.shape)\n",
    "print ('Validation labels shape: ', y_val.shape)\n",
    "print ('Test data shape: ', X_test.shape)\n",
    "print ('Test labels shape: ', y_test.shape)\n",
    "print ('dev data shape: ', X_dev.shape)\n",
    "print ('dev labels shape: ', y_dev.shape)"
   ]
  },
  {
   "cell_type": "markdown",
   "metadata": {},
   "source": [
    "## Softmax Classifier\n",
    "\n",
    "Your code for this section will all be written inside **cs231n/classifiers/softmax.py**. \n"
   ]
  },
  {
   "cell_type": "code",
   "execution_count": 12,
   "metadata": {
    "collapsed": false
   },
   "outputs": [
    {
     "name": "stdout",
     "output_type": "stream",
     "text": [
      "loss: 2.320462\n",
      "sanity check: 2.302585\n"
     ]
    }
   ],
   "source": [
    "# First implement the naive softmax loss function with nested loops.\n",
    "# Open the file cs231n/classifiers/softmax.py and implement the\n",
    "# softmax_loss_naive function.\n",
    "\n",
    "#from cs231n.classifiers.softmax import softmax_loss_naive\n",
    "import time\n",
    "\n",
    "# Generate a random softmax weight matrix and use it to compute the loss.\n",
    "W = np.random.randn(3073, 10) * 0.0001\n",
    "loss, grad = softmax_loss_naive(W, X_dev, y_dev, 0.0)\n",
    "#loss, grad = softmax_loss_vectorized(W, X_dev, y_dev, 0.0)\n",
    "\n",
    "# As a rough sanity check, our loss should be something close to -log(0.1).\n",
    "print ('loss: %f' % loss)\n",
    "print ('sanity check: %f' % (-np.log(0.1)))"
   ]
  },
  {
   "cell_type": "code",
   "execution_count": 11,
   "metadata": {
    "collapsed": false
   },
   "outputs": [],
   "source": [
    "-"
   ]
  },
  {
   "cell_type": "markdown",
   "metadata": {},
   "source": [
    "## Inline Question 1:\n",
    "Why do we expect our loss to be close to -log(0.1)? Explain briefly.**\n",
    "\n",
    "**Your answer:** *Fill this in*\n"
   ]
  },
  {
   "cell_type": "code",
   "execution_count": 4,
   "metadata": {
    "collapsed": true
   },
   "outputs": [],
   "source": [
    "def softmax_loss_vectorized(W, X, y, reg):\n",
    "    \"\"\"\n",
    "      Softmax loss function, vectorized version.\n",
    "\n",
    "      Inputs and outputs are the same as softmax_loss_naive.\n",
    "    \"\"\"\n",
    "    # Initialize the loss and gradient to zero.\n",
    "    loss = 0.0\n",
    "    dW = np.zeros_like(W)\n",
    "    num_train=X.shape[0]\n",
    "\n",
    "    stab_factor = 1e-10\n",
    "    #############################################################################\n",
    "    # TODO: Compute the softmax loss and its gradient using no explicit loops.  #\n",
    "    # Store the loss in loss and the gradient in dW. If you are not careful     #\n",
    "    # here, it is easy to run into numeric instability. Don't forget the        #\n",
    "    # regularization!                                                           #\n",
    "    #############################################################################\n",
    "\n",
    "    scores = np.dot(X, W)\n",
    "    exp_scores = np.exp(scores)\n",
    "    probs = exp_scores / np.sum(exp_scores, axis=1, keepdims=True)\n",
    "    \n",
    "    reg_loss = 0.5*reg*np.sum(W*W)\n",
    "    \n",
    "    logprobs = -np.log(probs[range(num_train), y] + stab_factor)\n",
    "    data_loss = np.sum(logprobs)/num_train\n",
    "    loss = data_loss + reg_loss\n",
    "    \n",
    "    dscores = probs\n",
    "    dscores[range(num_train),y]-= 1\n",
    "    dscores = dscores / num_train\n",
    "    \n",
    "    dW = np.dot(X.T, dscores)\n",
    "    dW = dW + reg*W\n",
    "    \n",
    "    #############################################################################\n",
    "    #                          END OF YOUR CODE                                 #\n",
    "    #############################################################################\n",
    "\n",
    "    return loss, dW"
   ]
  },
  {
   "cell_type": "code",
   "execution_count": 13,
   "metadata": {
    "collapsed": false
   },
   "outputs": [
    {
     "name": "stdout",
     "output_type": "stream",
     "text": [
      "numerical: 1.102145 analytic: 1.102145, relative error: 1.921105e-08\n",
      "numerical: 2.930045 analytic: 2.930045, relative error: 1.924482e-08\n",
      "numerical: 0.145952 analytic: 0.145952, relative error: 2.675548e-07\n",
      "numerical: 2.048723 analytic: 2.048723, relative error: 2.494017e-09\n",
      "numerical: -2.770272 analytic: -2.770272, relative error: 1.248684e-08\n",
      "numerical: 1.692356 analytic: 1.692356, relative error: 3.373256e-08\n",
      "numerical: 3.792285 analytic: 3.792285, relative error: 6.322343e-09\n",
      "numerical: -3.367389 analytic: -3.367389, relative error: 5.864456e-09\n",
      "numerical: -1.265303 analytic: -1.265303, relative error: 1.772006e-08\n",
      "numerical: -0.800038 analytic: -0.800038, relative error: 6.621477e-08\n",
      "numerical: -1.839821 analytic: -1.839821, relative error: 5.620417e-09\n",
      "numerical: 0.450862 analytic: 0.450862, relative error: 1.141267e-08\n",
      "numerical: -1.311376 analytic: -1.311376, relative error: 3.329595e-08\n",
      "numerical: -4.486439 analytic: -4.486439, relative error: 1.110856e-08\n",
      "numerical: -7.067688 analytic: -7.067688, relative error: 8.170606e-09\n",
      "numerical: 1.363756 analytic: 1.363756, relative error: 2.330896e-08\n",
      "numerical: -1.516341 analytic: -1.516341, relative error: 2.674225e-08\n",
      "numerical: -4.214549 analytic: -4.214549, relative error: 2.003916e-08\n",
      "numerical: -0.469910 analytic: -0.469910, relative error: 8.695418e-08\n",
      "numerical: 3.852356 analytic: 3.852356, relative error: 1.324385e-08\n"
     ]
    }
   ],
   "source": [
    "# Complete the implementation of softmax_loss_naive and implement a (naive)\n",
    "# version of the gradient that uses nested loops.\n",
    "loss, grad = softmax_loss_naive(W, X_dev, y_dev, 0.0)\n",
    "\n",
    "# As we did for the SVM, use numeric gradient checking as a debugging tool.\n",
    "# The numeric gradient should be close to the analytic gradient.\n",
    "from cs231n.gradient_check import grad_check_sparse\n",
    "f = lambda w: softmax_loss_naive(w, X_dev, y_dev, 0.0)[0]\n",
    "grad_numerical = grad_check_sparse(f, W, grad, 10)\n",
    "\n",
    "# similar to SVM case, do another gradient check with regularization\n",
    "loss, grad = softmax_loss_naive(W, X_dev, y_dev, 1e2)\n",
    "f = lambda w: softmax_loss_naive(w, X_dev, y_dev, 1e2)[0]\n",
    "grad_numerical = grad_check_sparse(f, W, grad, 10)"
   ]
  },
  {
   "cell_type": "code",
   "execution_count": 20,
   "metadata": {
    "collapsed": false
   },
   "outputs": [
    {
     "name": "stdout",
     "output_type": "stream",
     "text": [
      "naive loss: 2.320462e+00 computed in 0.117705s\n",
      "vectorized loss: 2.320462e+00 computed in 0.008009s\n",
      "Loss difference: 0.000000\n",
      "Gradient difference: 0.000000\n"
     ]
    }
   ],
   "source": [
    "# Now that we have a naive implementation of the softmax loss function and its gradient,\n",
    "# implement a vectorized version in softmax_loss_vectorized.\n",
    "# The two versions should compute the same results, but the vectorized version should be\n",
    "# much faster.\n",
    "tic = time.time()\n",
    "loss_naive, grad_naive = softmax_loss_naive(W, X_dev, y_dev, 0.00001)\n",
    "toc = time.time()\n",
    "print ('naive loss: %e computed in %fs' % (loss_naive, toc - tic))\n",
    "\n",
    "from cs231n.classifiers.softmax import softmax_loss_vectorized\n",
    "tic = time.time()\n",
    "loss_vectorized, grad_vectorized = softmax_loss_vectorized(W, X_dev, y_dev, 0.00001)\n",
    "toc = time.time()\n",
    "print ('vectorized loss: %e computed in %fs' % (loss_vectorized, toc - tic))\n",
    "\n",
    "# As we did for the SVM, we use the Frobenius norm to compare the two versions\n",
    "# of the gradient.\n",
    "grad_difference = np.linalg.norm(grad_naive - grad_vectorized, ord='fro')\n",
    "print ('Loss difference: %f' % np.abs(loss_naive - loss_vectorized))\n",
    "print ('Gradient difference: %f' % grad_difference)"
   ]
  },
  {
   "cell_type": "code",
   "execution_count": 27,
   "metadata": {
    "collapsed": false
   },
   "outputs": [
    {
     "name": "stdout",
     "output_type": "stream",
     "text": [
      "iteration 0 / 1500: loss 7.358965\n",
      "iteration 100 / 1500: loss 5.754450\n",
      "iteration 200 / 1500: loss 5.249447\n",
      "iteration 300 / 1500: loss 4.896691\n",
      "iteration 400 / 1500: loss 5.003594\n",
      "iteration 500 / 1500: loss 4.650013\n",
      "iteration 600 / 1500: loss 4.546527\n",
      "iteration 700 / 1500: loss 4.578976\n",
      "iteration 800 / 1500: loss 4.391948\n",
      "iteration 900 / 1500: loss 4.447590\n",
      "iteration 1000 / 1500: loss 4.298121\n",
      "iteration 1100 / 1500: loss 4.284103\n",
      "iteration 1200 / 1500: loss 4.185255\n",
      "iteration 1300 / 1500: loss 4.311569\n",
      "iteration 1400 / 1500: loss 4.201525\n",
      "iteration 0 / 1500: loss 772.817367\n",
      "iteration 100 / 1500: loss 283.448412\n",
      "iteration 200 / 1500: loss 105.072087\n",
      "iteration 300 / 1500: loss 39.797041\n",
      "iteration 400 / 1500: loss 15.931088\n",
      "iteration 500 / 1500: loss 7.177235\n",
      "iteration 600 / 1500: loss 4.001987\n",
      "iteration 700 / 1500: loss 2.764574\n",
      "iteration 800 / 1500: loss 2.296152\n",
      "iteration 900 / 1500: loss 2.144818\n",
      "iteration 1000 / 1500: loss 2.097727\n",
      "iteration 1100 / 1500: loss 2.100421\n",
      "iteration 1200 / 1500: loss 2.120590\n",
      "iteration 1300 / 1500: loss 2.104288\n",
      "iteration 1400 / 1500: loss 2.057862\n",
      "iteration 0 / 1500: loss 7.196116\n",
      "iteration 100 / 1500: loss 3.731297\n",
      "iteration 200 / 1500: loss 3.370901\n",
      "iteration 300 / 1500: loss 3.156732\n",
      "iteration 400 / 1500: loss 3.190873\n",
      "iteration 500 / 1500: loss 3.014467\n",
      "iteration 600 / 1500: loss 2.864096\n",
      "iteration 700 / 1500: loss 2.889686\n",
      "iteration 800 / 1500: loss 2.750387\n",
      "iteration 900 / 1500: loss 2.618473\n",
      "iteration 1000 / 1500: loss 2.482753\n",
      "iteration 1100 / 1500: loss 2.508067\n",
      "iteration 1200 / 1500: loss 2.456743\n",
      "iteration 1300 / 1500: loss 2.403255\n",
      "iteration 1400 / 1500: loss 2.293661\n",
      "iteration 0 / 1500: loss 765.140981\n",
      "iteration 100 / 1500: loss 2.123578\n",
      "iteration 200 / 1500: loss 2.124003\n",
      "iteration 300 / 1500: loss 2.133612\n",
      "iteration 400 / 1500: loss 2.141947\n",
      "iteration 500 / 1500: loss 2.156310\n",
      "iteration 600 / 1500: loss 2.122171\n",
      "iteration 700 / 1500: loss 2.089748\n",
      "iteration 800 / 1500: loss 2.116161\n",
      "iteration 900 / 1500: loss 2.195199\n",
      "iteration 1000 / 1500: loss 2.167360\n",
      "iteration 1100 / 1500: loss 2.164739\n",
      "iteration 1200 / 1500: loss 2.077908\n",
      "iteration 1300 / 1500: loss 2.090586\n",
      "iteration 1400 / 1500: loss 2.142923\n",
      "lr 1.000000e-07 reg 1.000000e+02 train accuracy: 0.240673 val accuracy: 0.225000\n",
      "lr 1.000000e-07 reg 5.000000e+04 train accuracy: 0.329694 val accuracy: 0.346000\n",
      "lr 3.000000e-06 reg 1.000000e+02 train accuracy: 0.401429 val accuracy: 0.380000\n",
      "lr 3.000000e-06 reg 5.000000e+04 train accuracy: 0.300408 val accuracy: 0.320000\n",
      "best validation accuracy achieved during cross-validation: 0.380000\n"
     ]
    }
   ],
   "source": [
    "# Use the validation set to tune hyperparameters (regularization strength and\n",
    "# learning rate). You should experiment with different ranges for the learning\n",
    "# rates and regularization strengths; if you are careful you should be able to\n",
    "# get a classification accuracy of over 0.35 on the validation set.\n",
    "from cs231n.classifiers import Softmax\n",
    "results = {}\n",
    "best_val = -1\n",
    "best_softmax = None\n",
    "learning_rates = [1e-7, 3e-6]\n",
    "regularization_strengths = [1e2, 5e4]\n",
    "#learning_rates = [1e-7, 5e-7]\n",
    "#regularization_strengths = [5e4, 1e8]\n",
    "################################################################################\n",
    "# TODO:                                                                        #\n",
    "# Use the validation set to set the learning rate and regularization strength. #\n",
    "# This should be identical to the validation that you did for the SVM; save    #\n",
    "# the best trained softmax classifer in best_softmax.                          #\n",
    "################################################################################\n",
    "for i in range(len(learning_rates)):\n",
    "    for j in range(len(regularization_strengths)):\n",
    "        softmax = Softmax()\n",
    "        loss_hist = softmax.train(X_train, y_train, learning_rate=learning_rates[i], reg=regularization_strengths[j],\n",
    "                      num_iters=1500, verbose=True)\n",
    "        y_train_pred = softmax.predict(X_train)\n",
    "        y_val_pred = softmax.predict(X_val)\n",
    "        predrate_train = np.mean(y_train == y_train_pred)\n",
    "        predrate_val = np.mean(y_val_pred == y_val)\n",
    "        results[(learning_rates[i], regularization_strengths[j])] = (predrate_train, predrate_val)\n",
    "        if(predrate_val > best_val):\n",
    "            best_val = predrate_val\n",
    "            best_softmax = softmax\n",
    "################################################################################\n",
    "#                              END OF YOUR CODE                                #\n",
    "################################################################################\n",
    "    \n",
    "# Print out results.\n",
    "for lr, reg in sorted(results):\n",
    "    train_accuracy, val_accuracy = results[(lr, reg)]\n",
    "    print ('lr %e reg %e train accuracy: %f val accuracy: %f' % (\n",
    "                lr, reg, train_accuracy, val_accuracy))\n",
    "    \n",
    "print ('best validation accuracy achieved during cross-validation: %f' % best_val)"
   ]
  },
  {
   "cell_type": "code",
   "execution_count": 28,
   "metadata": {
    "collapsed": false
   },
   "outputs": [
    {
     "name": "stdout",
     "output_type": "stream",
     "text": [
      "softmax on raw pixels final test set accuracy: 0.376000\n"
     ]
    }
   ],
   "source": [
    "# evaluate on test set\n",
    "# Evaluate the best softmax on test set\n",
    "y_test_pred = best_softmax.predict(X_test)\n",
    "test_accuracy = np.mean(y_test == y_test_pred)\n",
    "print ('softmax on raw pixels final test set accuracy: %f' % (test_accuracy, ))"
   ]
  },
  {
   "cell_type": "code",
   "execution_count": 30,
   "metadata": {
    "collapsed": false
   },
   "outputs": [
    {
     "data": {
      "image/png": "[encoded data removed]",
      "text/plain": [
       "<matplotlib.figure.Figure at 0x1d1dfc5c6d8>"
      ]
     },
     "metadata": {},
     "output_type": "display_data"
    }
   ],
   "source": [
    "# Visualize the learned weights for each class\n",
    "w = best_softmax.W[:-1,:] # strip out the bias\n",
    "w = w.reshape(32, 32, 3, 10)\n",
    "\n",
    "w_min, w_max = np.min(w), np.max(w)\n",
    "\n",
    "classes = ['plane', 'car', 'bird', 'cat', 'deer', 'dog', 'frog', 'horse', 'ship', 'truck']\n",
    "for i in range(10):\n",
    "  plt.subplot(2, 5, i + 1)\n",
    "  \n",
    "  # Rescale the weights to be between 0 and 255\n",
    "  wimg = 255.0 * (w[:, :, :, i].squeeze() - w_min) / (w_max - w_min)\n",
    "  plt.imshow(wimg.astype('uint8'))\n",
    "  plt.axis('off')\n",
    "  plt.title(classes[i])"
   ]
  }
 ],
 "metadata": {
  "kernelspec": {
   "display_name": "Python 3",
   "language": "python",
   "name": "python3"
  },
  "language_info": {
   "codemirror_mode": {
    "name": "ipython",
    "version": 3
   },
   "file_extension": ".py",
   "mimetype": "text/x-python",
   "name": "python",
   "nbconvert_exporter": "python",
   "pygments_lexer": "ipython3",
   "version": "3.6.0"
  }
 },
 "nbformat": 4,
 "nbformat_minor": 0
}
